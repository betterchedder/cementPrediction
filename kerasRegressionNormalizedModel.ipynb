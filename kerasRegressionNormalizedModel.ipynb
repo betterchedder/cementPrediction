{
 "cells": [
  {
   "cell_type": "code",
   "execution_count": 63,
   "metadata": {},
   "outputs": [],
   "source": [
    "import copy\n",
    "\n",
    "import pandas as pd\n",
    "import numpy as np\n",
    "import tensorflow\n",
    "\n",
    "from keras import Sequential\n",
    "from keras.layers import Dense\n",
    "from sklearn.model_selection import train_test_split"
   ]
  },
  {
   "cell_type": "markdown",
   "metadata": {},
   "source": [
    "# Read in, Normalize and Split Data"
   ]
  },
  {
   "cell_type": "code",
   "execution_count": 64,
   "metadata": {},
   "outputs": [],
   "source": [
    "target_variable = 'Strength'"
   ]
  },
  {
   "cell_type": "code",
   "execution_count": 65,
   "metadata": {},
   "outputs": [
    {
     "name": "stdout",
     "output_type": "stream",
     "text": [
      "['Age', 'Blast Furnace Slag', 'Cement', 'Coarse Aggregate', 'Fine Aggregate', 'Fly Ash', 'Strength', 'Superplasticizer', 'Water']\n"
     ]
    }
   ],
   "source": [
    "df_cement = pd.read_csv('concrete_data.csv')\n",
    "\n",
    "print(sorted(list(df_cement)))"
   ]
  },
  {
   "cell_type": "code",
   "execution_count": 66,
   "metadata": {},
   "outputs": [],
   "source": [
    "\n",
    "def normalize(data_to_normalize):\n",
    "    data_to_normalize_scaled = copy.copy(data_to_normalize)\n",
    "    for feature in data_to_normalize.columns:\n",
    "        mean_value_of_feature = np.mean(data_to_normalize[feature].values)\n",
    "        std_dev_value_of_feature = np.std(data_to_normalize[feature].values)\n",
    "\n",
    "        data_to_normalize_scaled[feature] = (data_to_normalize[feature] - mean_value_of_feature) / std_dev_value_of_feature\n",
    "\n",
    "    return data_to_normalize_scaled"
   ]
  },
  {
   "cell_type": "code",
   "execution_count": null,
   "metadata": {},
   "outputs": [],
   "source": []
  },
  {
   "cell_type": "code",
   "execution_count": 67,
   "metadata": {},
   "outputs": [
    {
     "data": {
      "text/html": [
       "<div>\n",
       "<style scoped>\n",
       "    .dataframe tbody tr th:only-of-type {\n",
       "        vertical-align: middle;\n",
       "    }\n",
       "\n",
       "    .dataframe tbody tr th {\n",
       "        vertical-align: top;\n",
       "    }\n",
       "\n",
       "    .dataframe thead th {\n",
       "        text-align: right;\n",
       "    }\n",
       "</style>\n",
       "<table border=\"1\" class=\"dataframe\">\n",
       "  <thead>\n",
       "    <tr style=\"text-align: right;\">\n",
       "      <th></th>\n",
       "      <th>Cement</th>\n",
       "      <th>Blast Furnace Slag</th>\n",
       "      <th>Fly Ash</th>\n",
       "      <th>Water</th>\n",
       "      <th>Superplasticizer</th>\n",
       "      <th>Coarse Aggregate</th>\n",
       "      <th>Fine Aggregate</th>\n",
       "      <th>Age</th>\n",
       "    </tr>\n",
       "  </thead>\n",
       "  <tbody>\n",
       "    <tr>\n",
       "      <th>0</th>\n",
       "      <td>2.477915</td>\n",
       "      <td>-0.856888</td>\n",
       "      <td>-0.847144</td>\n",
       "      <td>-0.916764</td>\n",
       "      <td>-0.620448</td>\n",
       "      <td>0.863154</td>\n",
       "      <td>-1.217670</td>\n",
       "      <td>-0.279733</td>\n",
       "    </tr>\n",
       "    <tr>\n",
       "      <th>1</th>\n",
       "      <td>2.477915</td>\n",
       "      <td>-0.856888</td>\n",
       "      <td>-0.847144</td>\n",
       "      <td>-0.916764</td>\n",
       "      <td>-0.620448</td>\n",
       "      <td>1.056164</td>\n",
       "      <td>-1.217670</td>\n",
       "      <td>-0.279733</td>\n",
       "    </tr>\n",
       "    <tr>\n",
       "      <th>2</th>\n",
       "      <td>0.491425</td>\n",
       "      <td>0.795526</td>\n",
       "      <td>-0.847144</td>\n",
       "      <td>2.175461</td>\n",
       "      <td>-1.039143</td>\n",
       "      <td>-0.526517</td>\n",
       "      <td>-2.240917</td>\n",
       "      <td>3.553066</td>\n",
       "    </tr>\n",
       "    <tr>\n",
       "      <th>3</th>\n",
       "      <td>0.491425</td>\n",
       "      <td>0.795526</td>\n",
       "      <td>-0.847144</td>\n",
       "      <td>2.175461</td>\n",
       "      <td>-1.039143</td>\n",
       "      <td>-0.526517</td>\n",
       "      <td>-2.240917</td>\n",
       "      <td>5.057677</td>\n",
       "    </tr>\n",
       "    <tr>\n",
       "      <th>4</th>\n",
       "      <td>-0.790459</td>\n",
       "      <td>0.678408</td>\n",
       "      <td>-0.847144</td>\n",
       "      <td>0.488793</td>\n",
       "      <td>-1.039143</td>\n",
       "      <td>0.070527</td>\n",
       "      <td>0.647884</td>\n",
       "      <td>4.978487</td>\n",
       "    </tr>\n",
       "    <tr>\n",
       "      <th>...</th>\n",
       "      <td>...</td>\n",
       "      <td>...</td>\n",
       "      <td>...</td>\n",
       "      <td>...</td>\n",
       "      <td>...</td>\n",
       "      <td>...</td>\n",
       "      <td>...</td>\n",
       "      <td>...</td>\n",
       "    </tr>\n",
       "    <tr>\n",
       "      <th>1025</th>\n",
       "      <td>-0.045645</td>\n",
       "      <td>0.488235</td>\n",
       "      <td>0.564545</td>\n",
       "      <td>-0.092171</td>\n",
       "      <td>0.451410</td>\n",
       "      <td>-1.323005</td>\n",
       "      <td>-0.065893</td>\n",
       "      <td>-0.279733</td>\n",
       "    </tr>\n",
       "    <tr>\n",
       "      <th>1026</th>\n",
       "      <td>0.392819</td>\n",
       "      <td>-0.856888</td>\n",
       "      <td>0.960068</td>\n",
       "      <td>0.676200</td>\n",
       "      <td>0.702626</td>\n",
       "      <td>-1.994680</td>\n",
       "      <td>0.496893</td>\n",
       "      <td>-0.279733</td>\n",
       "    </tr>\n",
       "    <tr>\n",
       "      <th>1027</th>\n",
       "      <td>-1.270088</td>\n",
       "      <td>0.759579</td>\n",
       "      <td>0.850635</td>\n",
       "      <td>0.521589</td>\n",
       "      <td>-0.017528</td>\n",
       "      <td>-1.036064</td>\n",
       "      <td>0.080107</td>\n",
       "      <td>-0.279733</td>\n",
       "    </tr>\n",
       "    <tr>\n",
       "      <th>1028</th>\n",
       "      <td>-1.168610</td>\n",
       "      <td>1.308065</td>\n",
       "      <td>-0.847144</td>\n",
       "      <td>-0.279579</td>\n",
       "      <td>0.853356</td>\n",
       "      <td>0.214641</td>\n",
       "      <td>0.191166</td>\n",
       "      <td>-0.279733</td>\n",
       "    </tr>\n",
       "    <tr>\n",
       "      <th>1029</th>\n",
       "      <td>-0.194033</td>\n",
       "      <td>0.308499</td>\n",
       "      <td>0.376945</td>\n",
       "      <td>0.891719</td>\n",
       "      <td>0.401166</td>\n",
       "      <td>-1.395062</td>\n",
       "      <td>-0.150748</td>\n",
       "      <td>-0.279733</td>\n",
       "    </tr>\n",
       "  </tbody>\n",
       "</table>\n",
       "<p>1030 rows × 8 columns</p>\n",
       "</div>"
      ],
      "text/plain": [
       "        Cement  Blast Furnace Slag   Fly Ash     Water  Superplasticizer  \\\n",
       "0     2.477915           -0.856888 -0.847144 -0.916764         -0.620448   \n",
       "1     2.477915           -0.856888 -0.847144 -0.916764         -0.620448   \n",
       "2     0.491425            0.795526 -0.847144  2.175461         -1.039143   \n",
       "3     0.491425            0.795526 -0.847144  2.175461         -1.039143   \n",
       "4    -0.790459            0.678408 -0.847144  0.488793         -1.039143   \n",
       "...        ...                 ...       ...       ...               ...   \n",
       "1025 -0.045645            0.488235  0.564545 -0.092171          0.451410   \n",
       "1026  0.392819           -0.856888  0.960068  0.676200          0.702626   \n",
       "1027 -1.270088            0.759579  0.850635  0.521589         -0.017528   \n",
       "1028 -1.168610            1.308065 -0.847144 -0.279579          0.853356   \n",
       "1029 -0.194033            0.308499  0.376945  0.891719          0.401166   \n",
       "\n",
       "      Coarse Aggregate  Fine Aggregate       Age  \n",
       "0             0.863154       -1.217670 -0.279733  \n",
       "1             1.056164       -1.217670 -0.279733  \n",
       "2            -0.526517       -2.240917  3.553066  \n",
       "3            -0.526517       -2.240917  5.057677  \n",
       "4             0.070527        0.647884  4.978487  \n",
       "...                ...             ...       ...  \n",
       "1025         -1.323005       -0.065893 -0.279733  \n",
       "1026         -1.994680        0.496893 -0.279733  \n",
       "1027         -1.036064        0.080107 -0.279733  \n",
       "1028          0.214641        0.191166 -0.279733  \n",
       "1029         -1.395062       -0.150748 -0.279733  \n",
       "\n",
       "[1030 rows x 8 columns]"
      ]
     },
     "execution_count": 67,
     "metadata": {},
     "output_type": "execute_result"
    }
   ],
   "source": [
    "# Create a features and target dataframe, where df_features does not contain target variable and df_target contains only target variable\n",
    "df_features = df_cement.drop(target_variable, axis=1)\n",
    "\n",
    "df_target = df_cement[target_variable]\n",
    "\n",
    "df_features_normalized = normalize(data_to_normalize=df_features)\n",
    "df_features_normalized"
   ]
  },
  {
   "cell_type": "code",
   "execution_count": 68,
   "metadata": {},
   "outputs": [],
   "source": [
    "#Obtain split data in dataframe format, by sending df_features and df_target to helper function\n",
    "df_features_train, df_features_test, df_target_train, df_target_test = train_test_split(df_features_normalized, df_target, test_size=0.3)"
   ]
  },
  {
   "cell_type": "markdown",
   "metadata": {},
   "source": [
    "# Build Keras Model"
   ]
  },
  {
   "cell_type": "code",
   "execution_count": 69,
   "metadata": {},
   "outputs": [],
   "source": [
    "input_shape = (df_features_train.shape[1],)"
   ]
  },
  {
   "cell_type": "markdown",
   "metadata": {},
   "source": [
    "## Create Model Architecture"
   ]
  },
  {
   "cell_type": "code",
   "execution_count": 70,
   "metadata": {},
   "outputs": [],
   "source": [
    "model = Sequential()\n",
    "#Single hidden layer, \n",
    "model.add(Dense(10, input_shape=input_shape, activation=\"relu\"))\n",
    "model.add(Dense(1))"
   ]
  },
  {
   "cell_type": "markdown",
   "metadata": {},
   "source": [
    "# Compile and Fit Model"
   ]
  },
  {
   "cell_type": "code",
   "execution_count": 71,
   "metadata": {},
   "outputs": [],
   "source": [
    "model.compile(optimizer='adam', loss='mse', metrics=['mse'])"
   ]
  },
  {
   "cell_type": "code",
   "execution_count": 72,
   "metadata": {},
   "outputs": [
    {
     "name": "stdout",
     "output_type": "stream",
     "text": [
      "Epoch 1/50\n",
      "23/23 [==============================] - 0s 561us/step - loss: 1474.7905 - mse: 1474.7905\n",
      "Epoch 2/50\n",
      "23/23 [==============================] - 0s 533us/step - loss: 1459.6936 - mse: 1459.6936\n",
      "Epoch 3/50\n",
      "23/23 [==============================] - 0s 504us/step - loss: 1444.2120 - mse: 1444.2120\n",
      "Epoch 4/50\n",
      "23/23 [==============================] - 0s 513us/step - loss: 1428.3196 - mse: 1428.3196\n",
      "Epoch 5/50\n",
      "23/23 [==============================] - 0s 470us/step - loss: 1411.8690 - mse: 1411.8690\n",
      "Epoch 6/50\n",
      "23/23 [==============================] - 0s 504us/step - loss: 1394.6588 - mse: 1394.6588\n",
      "Epoch 7/50\n",
      "23/23 [==============================] - 0s 466us/step - loss: 1377.0530 - mse: 1377.0530\n",
      "Epoch 8/50\n",
      "23/23 [==============================] - 0s 481us/step - loss: 1358.0865 - mse: 1358.0865\n",
      "Epoch 9/50\n",
      "23/23 [==============================] - 0s 469us/step - loss: 1338.5869 - mse: 1338.5869\n",
      "Epoch 10/50\n",
      "23/23 [==============================] - 0s 443us/step - loss: 1317.9823 - mse: 1317.9823\n",
      "Epoch 11/50\n",
      "23/23 [==============================] - 0s 494us/step - loss: 1296.7682 - mse: 1296.7682\n",
      "Epoch 12/50\n",
      "23/23 [==============================] - 0s 456us/step - loss: 1274.4773 - mse: 1274.4773\n",
      "Epoch 13/50\n",
      "23/23 [==============================] - 0s 442us/step - loss: 1251.2373 - mse: 1251.2373\n",
      "Epoch 14/50\n",
      "23/23 [==============================] - 0s 456us/step - loss: 1227.7235 - mse: 1227.7235\n",
      "Epoch 15/50\n",
      "23/23 [==============================] - 0s 441us/step - loss: 1203.2438 - mse: 1203.2438\n",
      "Epoch 16/50\n",
      "23/23 [==============================] - 0s 438us/step - loss: 1177.6515 - mse: 1177.6515\n",
      "Epoch 17/50\n",
      "23/23 [==============================] - 0s 460us/step - loss: 1151.2133 - mse: 1151.2133\n",
      "Epoch 18/50\n",
      "23/23 [==============================] - 0s 435us/step - loss: 1124.1615 - mse: 1124.1615\n",
      "Epoch 19/50\n",
      "23/23 [==============================] - 0s 434us/step - loss: 1096.2153 - mse: 1096.2153\n",
      "Epoch 20/50\n",
      "23/23 [==============================] - 0s 435us/step - loss: 1067.3219 - mse: 1067.3219\n",
      "Epoch 21/50\n",
      "23/23 [==============================] - 0s 437us/step - loss: 1037.6951 - mse: 1037.6951\n",
      "Epoch 22/50\n",
      "23/23 [==============================] - 0s 440us/step - loss: 1007.2542 - mse: 1007.2542\n",
      "Epoch 23/50\n",
      "23/23 [==============================] - 0s 456us/step - loss: 976.3909 - mse: 976.3909\n",
      "Epoch 24/50\n",
      "23/23 [==============================] - 0s 432us/step - loss: 944.5891 - mse: 944.5891\n",
      "Epoch 25/50\n",
      "23/23 [==============================] - 0s 427us/step - loss: 912.2067 - mse: 912.2067\n",
      "Epoch 26/50\n",
      "23/23 [==============================] - 0s 692us/step - loss: 879.1891 - mse: 879.1891\n",
      "Epoch 27/50\n",
      "23/23 [==============================] - 0s 494us/step - loss: 846.4103 - mse: 846.4103\n",
      "Epoch 28/50\n",
      "23/23 [==============================] - 0s 465us/step - loss: 812.3210 - mse: 812.3210\n",
      "Epoch 29/50\n",
      "23/23 [==============================] - 0s 476us/step - loss: 778.4094 - mse: 778.4094\n",
      "Epoch 30/50\n",
      "23/23 [==============================] - 0s 450us/step - loss: 744.7818 - mse: 744.7818\n",
      "Epoch 31/50\n",
      "23/23 [==============================] - 0s 458us/step - loss: 711.3089 - mse: 711.3089\n",
      "Epoch 32/50\n",
      "23/23 [==============================] - 0s 499us/step - loss: 677.6918 - mse: 677.6918\n",
      "Epoch 33/50\n",
      "23/23 [==============================] - 0s 2ms/step - loss: 645.2225 - mse: 645.2225\n",
      "Epoch 34/50\n",
      "23/23 [==============================] - 0s 503us/step - loss: 613.3676 - mse: 613.3676\n",
      "Epoch 35/50\n",
      "23/23 [==============================] - 0s 459us/step - loss: 581.9446 - mse: 581.9446\n",
      "Epoch 36/50\n",
      "23/23 [==============================] - 0s 455us/step - loss: 552.1622 - mse: 552.1622\n",
      "Epoch 37/50\n",
      "23/23 [==============================] - 0s 477us/step - loss: 523.1748 - mse: 523.1748\n",
      "Epoch 38/50\n",
      "23/23 [==============================] - 0s 479us/step - loss: 495.5429 - mse: 495.5429\n",
      "Epoch 39/50\n",
      "23/23 [==============================] - 0s 493us/step - loss: 469.5951 - mse: 469.5951\n",
      "Epoch 40/50\n",
      "23/23 [==============================] - 0s 450us/step - loss: 445.1011 - mse: 445.1011\n",
      "Epoch 41/50\n",
      "23/23 [==============================] - 0s 470us/step - loss: 422.0635 - mse: 422.0635\n",
      "Epoch 42/50\n",
      "23/23 [==============================] - 0s 455us/step - loss: 400.0387 - mse: 400.0387\n",
      "Epoch 43/50\n",
      "23/23 [==============================] - 0s 460us/step - loss: 380.1445 - mse: 380.1445\n",
      "Epoch 44/50\n",
      "23/23 [==============================] - 0s 465us/step - loss: 361.1714 - mse: 361.1714\n",
      "Epoch 45/50\n",
      "23/23 [==============================] - 0s 458us/step - loss: 343.6812 - mse: 343.6812\n",
      "Epoch 46/50\n",
      "23/23 [==============================] - 0s 454us/step - loss: 327.8674 - mse: 327.8674\n",
      "Epoch 47/50\n",
      "23/23 [==============================] - 0s 465us/step - loss: 313.3773 - mse: 313.3773\n",
      "Epoch 48/50\n",
      "23/23 [==============================] - 0s 503us/step - loss: 300.1158 - mse: 300.1158\n",
      "Epoch 49/50\n",
      "23/23 [==============================] - 0s 456us/step - loss: 287.7100 - mse: 287.7100\n",
      "Epoch 50/50\n",
      "23/23 [==============================] - 0s 462us/step - loss: 277.0344 - mse: 277.0344\n"
     ]
    },
    {
     "data": {
      "text/plain": [
       "<keras.src.callbacks.History at 0x29d57d450>"
      ]
     },
     "execution_count": 72,
     "metadata": {},
     "output_type": "execute_result"
    }
   ],
   "source": [
    "model.fit(df_features_train, df_target_train, epochs=50)"
   ]
  },
  {
   "cell_type": "code",
   "execution_count": 73,
   "metadata": {},
   "outputs": [
    {
     "name": "stdout",
     "output_type": "stream",
     "text": [
      "10/10 [==============================] - 0s 559us/step - loss: 279.9909 - mse: 279.9909\n",
      "279.9909362792969\n"
     ]
    }
   ],
   "source": [
    "results = model.evaluate(x=df_features_test, y=df_target_test, return_dict=True)\n",
    "print(results['mse'])"
   ]
  },
  {
   "cell_type": "code",
   "execution_count": null,
   "metadata": {},
   "outputs": [],
   "source": []
  },
  {
   "cell_type": "markdown",
   "metadata": {},
   "source": [
    "# Retrain Model Split and Train 50 Times"
   ]
  },
  {
   "cell_type": "code",
   "execution_count": 74,
   "metadata": {},
   "outputs": [
    {
     "name": "stdout",
     "output_type": "stream",
     "text": [
      "10/10 [==============================] - 0s 541us/step - loss: 162.5754 - mse: 162.5754\n",
      "10/10 [==============================] - 0s 528us/step - loss: 426.5882 - mse: 426.5882\n",
      "10/10 [==============================] - 0s 538us/step - loss: 92.0502 - mse: 92.0502\n",
      "10/10 [==============================] - 0s 539us/step - loss: 669.7605 - mse: 669.7605\n",
      "10/10 [==============================] - 0s 531us/step - loss: 175.1334 - mse: 175.1334\n",
      "10/10 [==============================] - 0s 527us/step - loss: 124.5766 - mse: 124.5766\n",
      "10/10 [==============================] - 0s 567us/step - loss: 215.8588 - mse: 215.8588\n",
      "10/10 [==============================] - 0s 596us/step - loss: 123.6681 - mse: 123.6681\n",
      "10/10 [==============================] - 0s 1ms/step - loss: 158.3604 - mse: 158.3604\n",
      "10/10 [==============================] - 0s 1ms/step - loss: 864.2664 - mse: 864.2664\n",
      "10/10 [==============================] - 0s 532us/step - loss: 130.7752 - mse: 130.7752\n",
      "10/10 [==============================] - 0s 530us/step - loss: 318.3211 - mse: 318.3211\n",
      "10/10 [==============================] - 0s 539us/step - loss: 140.7710 - mse: 140.7710\n",
      "10/10 [==============================] - 0s 534us/step - loss: 102.0481 - mse: 102.0481\n",
      "10/10 [==============================] - 0s 555us/step - loss: 159.8736 - mse: 159.8736\n",
      "10/10 [==============================] - 0s 604us/step - loss: 291.0412 - mse: 291.0412\n",
      "10/10 [==============================] - 0s 559us/step - loss: 178.9275 - mse: 178.9275\n",
      "10/10 [==============================] - 0s 546us/step - loss: 128.0159 - mse: 128.0159\n",
      "10/10 [==============================] - 0s 597us/step - loss: 935.1389 - mse: 935.1389\n",
      "10/10 [==============================] - 0s 548us/step - loss: 154.7218 - mse: 154.7218\n",
      "10/10 [==============================] - 0s 539us/step - loss: 101.6676 - mse: 101.6676\n",
      "10/10 [==============================] - 0s 532us/step - loss: 113.3710 - mse: 113.3710\n",
      "10/10 [==============================] - 0s 529us/step - loss: 161.2080 - mse: 161.2080\n",
      "10/10 [==============================] - 0s 1ms/step - loss: 224.2929 - mse: 224.2929\n",
      "10/10 [==============================] - 0s 579us/step - loss: 277.8323 - mse: 277.8323\n",
      "10/10 [==============================] - 0s 523us/step - loss: 2422.9604 - mse: 2422.9604\n",
      "10/10 [==============================] - 0s 509us/step - loss: 148.8023 - mse: 148.8023\n",
      "10/10 [==============================] - 0s 535us/step - loss: 106.9419 - mse: 106.9419\n",
      "10/10 [==============================] - 0s 566us/step - loss: 499.9176 - mse: 499.9176\n",
      "10/10 [==============================] - 0s 537us/step - loss: 125.4622 - mse: 125.4622\n",
      "10/10 [==============================] - 0s 537us/step - loss: 122.0743 - mse: 122.0743\n",
      "10/10 [==============================] - 0s 546us/step - loss: 127.2014 - mse: 127.2014\n",
      "10/10 [==============================] - 0s 553us/step - loss: 290.1577 - mse: 290.1577\n",
      "10/10 [==============================] - 0s 518us/step - loss: 115.9890 - mse: 115.9890\n",
      "10/10 [==============================] - 0s 596us/step - loss: 400.4008 - mse: 400.4008\n",
      "10/10 [==============================] - 0s 537us/step - loss: 256.0929 - mse: 256.0929\n",
      "10/10 [==============================] - 0s 531us/step - loss: 133.6381 - mse: 133.6381\n",
      "10/10 [==============================] - 0s 556us/step - loss: 102.5194 - mse: 102.5194\n",
      "10/10 [==============================] - 0s 567us/step - loss: 123.9035 - mse: 123.9035\n",
      "10/10 [==============================] - 0s 519us/step - loss: 168.4300 - mse: 168.4300\n",
      "10/10 [==============================] - 0s 664us/step - loss: 108.1467 - mse: 108.1467\n",
      "10/10 [==============================] - 0s 537us/step - loss: 90.2379 - mse: 90.2379\n",
      "10/10 [==============================] - 0s 535us/step - loss: 1006.8607 - mse: 1006.8607\n",
      "10/10 [==============================] - 0s 516us/step - loss: 430.4859 - mse: 430.4859\n",
      "10/10 [==============================] - 0s 503us/step - loss: 140.4340 - mse: 140.4340\n",
      "10/10 [==============================] - 0s 523us/step - loss: 108.4212 - mse: 108.4212\n",
      "10/10 [==============================] - 0s 517us/step - loss: 145.2268 - mse: 145.2268\n",
      "10/10 [==============================] - 0s 483us/step - loss: 666.4872 - mse: 666.4872\n",
      "10/10 [==============================] - 0s 518us/step - loss: 132.1068 - mse: 132.1068\n",
      "10/10 [==============================] - 0s 562us/step - loss: 247.9534 - mse: 247.9534\n"
     ]
    }
   ],
   "source": [
    "ls_mse_values = []\n",
    "\n",
    "for iteration in range(0, 50):\n",
    "    #Obtain split data in dataframe format, by sending df_features and df_target to helper function\n",
    "    df_features_train, df_features_test, df_target_train, df_target_test = train_test_split(df_features, df_target, test_size=0.3)\n",
    "\n",
    "    # Create a features and target dataframe, where df_features does not contain target variable and df_target contains only target variable\n",
    "    df_features = df_cement.drop(target_variable, axis=1)\n",
    "\n",
    "    df_target = df_cement[target_variable]\n",
    "\n",
    "    df_features_normalized = normalize(data_to_normalize=df_features)\n",
    "\n",
    "    #Obtain split data in dataframe format, by sending df_features and df_target to helper function\n",
    "    df_features_train, df_features_test, df_target_train, df_target_test = train_test_split(df_features, df_target, test_size=0.3)\n",
    "\n",
    "    input_shape = (df_features_train.shape[1],)\n",
    "\n",
    "    #Create Model\n",
    "    model = Sequential()\n",
    "    #Single hidden layer, \n",
    "    model.add(Dense(10, input_shape=input_shape, activation=\"relu\"))\n",
    "    model.add(Dense(1))\n",
    "\n",
    "    model.compile(optimizer='adam', loss='mse', metrics=['mse'])\n",
    "\n",
    "    model.fit(df_features_train, df_target_train, epochs=50, verbose=0)\n",
    "\n",
    "    results = model.evaluate(x=df_features_test, y=df_target_test, return_dict=True)\n",
    "\n",
    "    ls_mse_values.append(results['mse'])"
   ]
  },
  {
   "cell_type": "markdown",
   "metadata": {},
   "source": [
    "## Get Mean and Standard Deviations of 50 Runs"
   ]
  },
  {
   "cell_type": "code",
   "execution_count": 77,
   "metadata": {},
   "outputs": [
    {
     "name": "stdout",
     "output_type": "stream",
     "text": [
      "For the 50 runs, the mean MSE is 344.12 with a standard deviation of 361.04\n",
      "For the 50 runs, the mean MSE is 293.03 with a standard deviation of 374.86\n"
     ]
    }
   ],
   "source": [
    "avg_mse = np.mean(np.array(ls_mse_values))\n",
    "std_dev_mse = np.std(np.array(ls_mse_values))\n",
    "\n",
    "print(\"For the 50 runs, the mean MSE is 344.12 with a standard deviation of 361.04\")\n",
    "print(\"For the 50 runs, the mean MSE is {:.2f} with a standard deviation of {:.2f}\".format(avg_mse, std_dev_mse))"
   ]
  },
  {
   "cell_type": "code",
   "execution_count": null,
   "metadata": {},
   "outputs": [],
   "source": []
  }
 ],
 "metadata": {
  "kernelspec": {
   "display_name": "mehltrej",
   "language": "python",
   "name": "python3"
  },
  "language_info": {
   "codemirror_mode": {
    "name": "ipython",
    "version": 3
   },
   "file_extension": ".py",
   "mimetype": "text/x-python",
   "name": "python",
   "nbconvert_exporter": "python",
   "pygments_lexer": "ipython3",
   "version": "3.11.7"
  }
 },
 "nbformat": 4,
 "nbformat_minor": 2
}
